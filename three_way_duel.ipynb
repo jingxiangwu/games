{
  "nbformat": 4,
  "nbformat_minor": 0,
  "metadata": {
    "colab": {
      "provenance": [],
      "collapsed_sections": [
        "B5s8WzmKC7n7",
        "-L9-2V7-LQ5u"
      ],
      "authorship_tag": "ABX9TyPAb/U8h3kWRZM7gGVqvEpG",
      "include_colab_link": true
    },
    "kernelspec": {
      "name": "python3",
      "display_name": "Python 3"
    },
    "language_info": {
      "name": "python"
    }
  },
  "cells": [
    {
      "cell_type": "markdown",
      "metadata": {
        "id": "view-in-github",
        "colab_type": "text"
      },
      "source": [
        "<a href=\"https://colab.research.google.com/github/jingxiangwu/games/blob/main/three_way_duel.ipynb\" target=\"_parent\"><img src=\"https://colab.research.google.com/assets/colab-badge.svg\" alt=\"Open In Colab\"/></a>"
      ]
    },
    {
      "cell_type": "markdown",
      "source": [
        "# Problem statement"
      ],
      "metadata": {
        "id": "B5s8WzmKC7n7"
      }
    },
    {
      "cell_type": "markdown",
      "source": [
        "Alice, Bob, and Carol arrange a three-way duel.\n",
        "\n",
        "Each of the three has a gun and plenty of ammunition.\n",
        "\n",
        "If anyone takes a shot at one of his opponents, there is a fixed probability of killing whomever he shoots at. The probabilities are $p_A$, $p_B$ and $p_C$ and we assume $p_A \\leq p_B \\leq p_C$.\n",
        "\n",
        "\n",
        "They take turns shooting, first Alice, then Bob, the Carol, then back to Alice, and so on until one is left. What is Alice's best course of action?\n",
        "\n",
        "We assume that all players act rationally. They will maximize their chance of survival."
      ],
      "metadata": {
        "id": "ukJlg6TiC47W"
      }
    },
    {
      "cell_type": "markdown",
      "source": [
        "**Basic idea**\n",
        "\n",
        "1. To maximise their chances, each player prefer to be left with a weaker opponent.\n",
        "2. So Bob would not shoot at Alice in preference to Carol, and Carol will not shoot at Alice in preference to Bob.  Carol and Bob will target each other until one dies as they represent the greatest threat to each other.\n",
        "3. After one player dies, we are left with a two-way duel. Whoever shooting first will get an edge.\n",
        "4. Alice would rather face Bob than Caral\n",
        "\n",
        "Therefore, there are basically two competing guiding principles:\n",
        "- **First shot advantage**: Since Alice is safe in a three-way duel, Alice can simply shoot into the air and let Bob and Carol shoot each other. This way, whenever B or C dies, A gets to shoot first at the remaining player.\n",
        "- **Weaker opponent advantage**: Alice can shoot Carol to maximize the chance of facing Bob."
      ],
      "metadata": {
        "id": "mOa_3asOEu2g"
      }
    },
    {
      "cell_type": "markdown",
      "source": [
        "**Remark**\n",
        "\n",
        "Most of the solution I found online simply focus solely on the **First Shot advantage**, and conclude **wrongly** that Alice should simply shoot into the air.\n",
        "\n",
        "We will demonstrate this is only true in certain circumstances and in general, one needs to compare quantitatively two strategies."
      ],
      "metadata": {
        "id": "rF76WlaAKSDM"
      }
    },
    {
      "cell_type": "markdown",
      "source": [
        "# Two-way duel"
      ],
      "metadata": {
        "id": "-L9-2V7-LQ5u"
      }
    },
    {
      "cell_type": "markdown",
      "source": [
        "Let’s solve a two way duel before going further. We will follow the notation in [@nigelcoldwell](https://puzzles.nigelcoldwell.co.uk/fiftyone.htm)\n",
        "\n",
        "Let $p(\\underline{X}, Y)$ be the probability of $X$ surviving a duel with $Y$ where $X$ has first shot\n",
        "\n",
        "$$\n",
        "p(\\underline{X}, Y)=\\operatorname{Pr}(X \\text { hits } Y)+\\operatorname{Pr}(X \\text { misses } Y) * \\operatorname{Pr}(Y \\text { misses } X) * p(\\underline{X}, Y)\n",
        "$$\n",
        "\n",
        "Let  $p(X, \\underline{Y})$ be the probability of $X$ surviving a duel with $Y$ where $Y$ has first shot\n",
        "\n",
        "$$\n",
        "p(X, \\underline{Y})=\\operatorname{Pr}(Y\\text{ misses } X) *(\\operatorname{Pr}(X\\text{ hits } Y)+\\operatorname{Pr}(X\\text{ misses }Y) * p(X, \\underline{Y}))\n",
        "$$\n",
        "\n",
        "As a check, this is equal to $1-p(\\underline{Y}, X)$ since only one person can survive a two person duel.\n",
        "\n",
        "For example, we have the probability of A killing B if A shoots first\n",
        "$$\n",
        "p(\\underline{A}, B) = \\frac{p_A}{p_A+p_B - p_Ap_B}\n",
        "$$\n",
        "and if B shoots first\n",
        "$$\n",
        "p({A}, \\underline{B}) = \\frac{p_A}{p_A+p_B - p_Ap_B}(1-p_B)\n",
        "$$"
      ],
      "metadata": {
        "id": "6mTDdLiiCHd-"
      }
    },
    {
      "cell_type": "code",
      "source": [
        "import pandas as pd\n",
        "import numpy as np\n",
        "\n",
        "def two_way_table(pA, pB):\n",
        "    # probability of A winning if A shoots first\n",
        "    A_first = pA/(1 - (1-pA) * (1-pB) )\n",
        "    return A_first"
      ],
      "metadata": {
        "id": "q_CPXCuHReHn"
      },
      "execution_count": 36,
      "outputs": []
    },
    {
      "cell_type": "code",
      "source": [
        "# Probabilities for A, B, and C\n",
        "pA = 1/3\n",
        "pB = 2/3\n",
        "pC = 1.0\n",
        "print(f\"p(A kills B, A first) = {two_way_table(pA, pB):.4f}\")\n",
        "print(f\"p(A kills C, A first) = {two_way_table(pA, pC):.4f}\")\n",
        "print(f\"p(A kills B, B first) = {1 - two_way_table(pB, pA):.4f}\")\n",
        "print(f\"p(A kills C, C first) = {1 - two_way_table(pC, pB):.4f}\")"
      ],
      "metadata": {
        "colab": {
          "base_uri": "https://localhost:8080/"
        },
        "id": "tbgZL-9AWWcq",
        "outputId": "764bfbd7-38af-47b6-b3b3-29742f9756fe"
      },
      "execution_count": 37,
      "outputs": [
        {
          "output_type": "stream",
          "name": "stdout",
          "text": [
            "p(A kills B, A first) = 0.4286\n",
            "p(A kills C, A first) = 0.3333\n",
            "p(A kills B, B first) = 0.1429\n",
            "p(A kills C, C first) = 0.0000\n"
          ]
        }
      ]
    },
    {
      "cell_type": "markdown",
      "source": [
        "# Three-way duel"
      ],
      "metadata": {
        "id": "tm_dOKlaOZGf"
      }
    },
    {
      "cell_type": "markdown",
      "source": [
        "Let's now compare two strategies.\n",
        "\n",
        "1. Strategy I: Alice shoots into the air until either B or C dies."
      ],
      "metadata": {
        "id": "ebzyDGnQOf9N"
      }
    },
    {
      "cell_type": "markdown",
      "source": [
        "$$\n",
        "p_I(\\text { Alice survive })=p(\\underline{B}, C)* p(\\underline{A}, B)+ (1-p(\\underline{B}, C)) * p(\\underline{A}, C)\n",
        "$$"
      ],
      "metadata": {
        "id": "VQhE4uDKL0oU"
      }
    },
    {
      "cell_type": "markdown",
      "source": [
        "2. Strategy II: Alice shoots Carol and then face Bob.\n",
        "$$\n",
        "p_{II}(\\text{ Alice survive }) = p_A * p(A, \\underline{B}) + (1-p_A) * p_I(\\text{ Alice survive })\n",
        "$$"
      ],
      "metadata": {
        "id": "923xw4_lOuck"
      }
    },
    {
      "cell_type": "code",
      "source": [
        "pA = 1/3\n",
        "pB = 2/3\n",
        "pC = 1\n",
        "\n",
        "pI = two_way_table(pB, pC) * two_way_table(pA, pB) + (1 - two_way_table(pB, pC)) * two_way_table(pA, pC)\n",
        "# print(f\"p(A wins C, A first) = {two_way_table(pA, pC):.4f}\")\n",
        "# print(f\"p(A wins B, B first) = {1 - two_way_table(pB, pA):.4f}\")\n",
        "print('if A shoots into the air,')\n",
        "print(f\"p_I(A survives) = {pI:.4f}\")\n",
        "print('if A shoots Carol and then face Bob,')\n",
        "print(f\"p_II(A survives) = {pA * (1 - two_way_table(pB, pA)) + (1 - pA) * pI:.4f}\")"
      ],
      "metadata": {
        "colab": {
          "base_uri": "https://localhost:8080/"
        },
        "id": "hKmbpyNJOYty",
        "outputId": "cac53c94-554e-4a47-ad1c-5fc5afd77342"
      },
      "execution_count": 42,
      "outputs": [
        {
          "output_type": "stream",
          "name": "stdout",
          "text": [
            "if A shoots into the air,\n",
            "p_I(A survives) = 0.3968\n",
            "if A shoots Carol and then face Bob,\n",
            "p_II(A survives) = 0.3122\n"
          ]
        }
      ]
    },
    {
      "cell_type": "markdown",
      "source": [
        "In this scenario, A should shoot into the air."
      ],
      "metadata": {
        "id": "IPPf0uEhVU5P"
      }
    },
    {
      "cell_type": "code",
      "source": [
        "pA = 1/6\n",
        "pB = 1/5\n",
        "pC = 1\n",
        "\n",
        "pI = two_way_table(pB, pC) * two_way_table(pA, pB) + (1 - two_way_table(pB, pC)) * two_way_table(pA, pC)\n",
        "print('if A shoots into the air,')\n",
        "print(f\"p_I(A survives) = {pI:.4f}\")\n",
        "print('if A shoots Carol and then face Bob,')\n",
        "print(f\"p_II(A survives) = {pA * (1 - two_way_table(pB, pA)) + (1 - pA) * pI:.4f}\")"
      ],
      "metadata": {
        "colab": {
          "base_uri": "https://localhost:8080/"
        },
        "id": "g1o0If8yXX0n",
        "outputId": "a74f8883-2498-4418-930d-fb6efc99ad2d"
      },
      "execution_count": 50,
      "outputs": [
        {
          "output_type": "stream",
          "name": "stdout",
          "text": [
            "if A shoots into the air,\n",
            "p_I(A survives) = 0.2333\n",
            "if A shoots Carol and then face Bob,\n",
            "p_II(A survives) = 0.2611\n"
          ]
        }
      ]
    },
    {
      "cell_type": "markdown",
      "source": [
        "**In this case, A should shoot C!**"
      ],
      "metadata": {
        "id": "bHkbwI4BVUkd"
      }
    },
    {
      "cell_type": "markdown",
      "source": [
        "# Simulations"
      ],
      "metadata": {
        "id": "4e8WjW8MOTyq"
      }
    },
    {
      "cell_type": "markdown",
      "source": [
        "This is adapted from [@nigelcoldwell](https://puzzles.nigelcoldwell.co.uk/fiftyone.htm)"
      ],
      "metadata": {
        "id": "PlCQVne9RHIA"
      }
    },
    {
      "cell_type": "code",
      "execution_count": 49,
      "metadata": {
        "colab": {
          "base_uri": "https://localhost:8080/"
        },
        "id": "IG2WKcw1Rce1",
        "outputId": "cb5e96e2-967e-4963-acdc-ce2f3fdd1aed"
      },
      "outputs": [
        {
          "output_type": "stream",
          "name": "stdout",
          "text": [
            "Worst strategy\n",
            "Hit probabilities were A: 0.3333 B: 0.6667 C: 1\n",
            "A was targeting B\n",
            "Survivals rates were:\n",
            "A: 1064383 (26.4353%)\n",
            "B: 1023639 (25.4234%)\n",
            "C: 1938349 (48.1413%)\n",
            "----------------------------------------\n",
            "Strategy I: A shoots into air, until either B or C dies\n",
            "Hit probabilities were A: 0.3333 B: 0.6667 C: 1\n",
            "A was targeting Zero\n",
            "Survivals rates were:\n",
            "A: 1381893 (39.6851%)\n",
            "B: 1326621 (38.0978%)\n",
            "C: 773630 (22.2171%)\n",
            "----------------------------------------\n",
            "Strategy II: A shoots C\n",
            "Hit probabilities were A: 0.3333 B: 0.6667 C: 1\n",
            "A was targeting C\n",
            "Survivals rates were:\n",
            "A: 1078301 (31.2087%)\n",
            "B: 1865498 (53.9921%)\n",
            "C: 511330 (14.7992%)\n"
          ]
        }
      ],
      "source": [
        "import random\n",
        "import time\n",
        "from math import floor, pow\n",
        "\n",
        "# Function to handle the truel simulation logic\n",
        "def truel_function(pA, pB, pC, total_it_time, a_plan):\n",
        "    # a_plan is \"B\", \"C\" or \"Zero\"\n",
        "\n",
        "\n",
        "    if total_it_time < 1 or total_it_time != floor(total_it_time):\n",
        "        print(\"total_it_time needs to be an integer, e.g. 5000\")\n",
        "        return\n",
        "\n",
        "    if max(pA, pB, pC) > 1 or min(pA, pB, pC) < 0 or (pA + pB + pC) == 0:\n",
        "        print(\"probability should be in [0, 1]\")\n",
        "        return\n",
        "\n",
        "\n",
        "    totaltotalshots = 0\n",
        "    max_shots = 0\n",
        "    winsA = 0\n",
        "    winsB = 0\n",
        "    winsC = 0\n",
        "\n",
        "    start_time = time.time()\n",
        "    a = 0\n",
        "\n",
        "    while time.time() - start_time < total_it_time / 1000.0:\n",
        "        num_alive = 3\n",
        "        a_alive = b_alive = c_alive = 1\n",
        "        total_shots = 0\n",
        "\n",
        "        while num_alive > 1:\n",
        "            # A's turn to shoot\n",
        "            if a_alive and num_alive > 1:\n",
        "                target_a = -1\n",
        "                if num_alive == 2:\n",
        "                    target_a = 2 if b_alive else 3\n",
        "                elif num_alive == 3:\n",
        "                    if a_plan == \"B\":\n",
        "                        target_a = 2\n",
        "                    elif a_plan == \"C\":\n",
        "                        target_a = 3\n",
        "                    elif a_plan == \"Zero\":\n",
        "                        target_a = 0\n",
        "\n",
        "                if target_a == 2 and shoots(pA):\n",
        "                    b_alive = 0\n",
        "                    num_alive -= 1\n",
        "                elif target_a == 3 and shoots(pA):\n",
        "                    c_alive = 0\n",
        "                    num_alive -= 1\n",
        "\n",
        "                total_shots += 1\n",
        "\n",
        "            # B's turn to shoot\n",
        "            if b_alive and num_alive > 1:\n",
        "                target_b = -1\n",
        "                if num_alive == 2 and c_alive:\n",
        "                    target_b = 3\n",
        "                elif num_alive == 2 and a_alive:\n",
        "                    target_b = 1\n",
        "                elif num_alive == 3:\n",
        "                    if pA > pC:\n",
        "                        target_b = 1\n",
        "                    elif pC > pA:\n",
        "                        target_b = 3\n",
        "                    else:\n",
        "                        target_b = 1 + 2 * round(random.random())\n",
        "\n",
        "                if target_b == 1 and shoots(pB):\n",
        "                    a_alive = 0\n",
        "                    num_alive -= 1\n",
        "                elif target_b == 3 and shoots(pB):\n",
        "                    c_alive = 0\n",
        "                    num_alive -= 1\n",
        "\n",
        "                total_shots += 1\n",
        "\n",
        "            # C's turn to shoot\n",
        "            if c_alive and num_alive > 1:\n",
        "                target_c = -1\n",
        "                if num_alive == 2 and b_alive:\n",
        "                    target_c = 2\n",
        "                elif num_alive == 2 and a_alive:\n",
        "                    target_c = 1\n",
        "                elif num_alive == 3:\n",
        "                    if pA > pB:\n",
        "                        target_c = 1\n",
        "                    elif pB > pA:\n",
        "                        target_c = 2\n",
        "                    else:\n",
        "                        target_c = 1 + round(random.random())\n",
        "\n",
        "                if target_c == 1 and shoots(pC):\n",
        "                    a_alive = 0\n",
        "                    num_alive -= 1\n",
        "                elif target_c == 2 and shoots(pC):\n",
        "                    b_alive = 0\n",
        "                    num_alive -= 1\n",
        "\n",
        "                total_shots += 1\n",
        "\n",
        "        winsA += a_alive\n",
        "        winsB += b_alive\n",
        "        winsC += c_alive\n",
        "        totaltotalshots += total_shots\n",
        "        max_shots = max(total_shots, max_shots)\n",
        "        a += 1\n",
        "\n",
        "        end_time = time.time()\n",
        "        duration_time = round((end_time - start_time) * 1000, 3)\n",
        "        average_shots = round(totaltotalshots / a, 3)\n",
        "\n",
        "        print(f\"Hit probabilities were A: {round(pA, 4)} B: {round(pB, 4)} C: {round(pC, 4)}\")\n",
        "        print(f\"A was targeting {a_plan}\")\n",
        "        print(\"Survivals rates were:\")\n",
        "        print(f\"A: {winsA} ({round(100 * winsA / a, 4)}%)\")\n",
        "        print(f\"B: {winsB} ({round(100 * winsB / a, 4)}%)\")\n",
        "        print(f\"C: {winsC} ({round(100 * winsC / a, 4)}%)\")\n",
        "\n",
        "\n",
        "def shoots(p):\n",
        "    return random.random() <= p\n",
        "\n",
        "print(\"Worst strategy\")\n",
        "truel_function(pA=1/3, pB=2/3, pC=1, total_it_time=10000, a_plan=\"B\")\n",
        "print(\"-\"*40)\n",
        "print(\"Strategy I: A shoots into air, until either B or C dies\")\n",
        "truel_function(pA=1/3, pB=2/3, pC=1, total_it_time=10000, a_plan=\"Zero\")\n",
        "print(\"-\"*40)\n",
        "print(\"Strategy II: A shoots C\")\n",
        "truel_function(pA=1/3, pB=2/3, pC=1, total_it_time=10000, a_plan=\"C\")"
      ]
    },
    {
      "cell_type": "code",
      "source": [
        "print(\"Worst strategy\")\n",
        "truel_function(pA=1/6, pB=1/5, pC=1, total_it_time=10000, a_plan=\"B\")\n",
        "print(\"-\"*40)\n",
        "print(\"Strategy I: A shoots into air, until either B or C dies\")\n",
        "truel_function(pA=1/6, pB=1/5, pC=1, total_it_time=10000, a_plan=\"Zero\")\n",
        "print(\"-\"*40)\n",
        "print(\"Strategy II: A shoots C\")\n",
        "truel_function(pA=1/6, pB=1/5, pC=1, total_it_time=10000, a_plan=\"C\")"
      ],
      "metadata": {
        "colab": {
          "base_uri": "https://localhost:8080/"
        },
        "id": "qtLolJDhdSzL",
        "outputId": "0d925336-ad78-479e-e592-7b13f405b2b0"
      },
      "execution_count": 51,
      "outputs": [
        {
          "output_type": "stream",
          "name": "stdout",
          "text": [
            "Worst strategy\n",
            "Hit probabilities were A: 0.1667 B: 0.2 C: 1\n",
            "A was targeting B\n",
            "Survivals rates were:\n",
            "A: 583394 (19.4495%)\n",
            "B: 249311 (8.3117%)\n",
            "C: 2166823 (72.2388%)\n",
            "----------------------------------------\n",
            "Strategy I: A shoots into air, until either B or C dies\n",
            "Hit probabilities were A: 0.1667 B: 0.2 C: 1\n",
            "A was targeting Zero\n",
            "Survivals rates were:\n",
            "A: 685895 (23.333%)\n",
            "B: 294212 (10.0086%)\n",
            "C: 1959487 (66.6584%)\n",
            "----------------------------------------\n",
            "Strategy II: A shoots C\n",
            "Hit probabilities were A: 0.1667 B: 0.2 C: 1\n",
            "A was targeting C\n",
            "Survivals rates were:\n",
            "A: 749736 (26.0923%)\n",
            "B: 527076 (18.3433%)\n",
            "C: 1596589 (55.5644%)\n"
          ]
        }
      ]
    },
    {
      "cell_type": "code",
      "source": [],
      "metadata": {
        "id": "kBX4YIn-Vnvm"
      },
      "execution_count": null,
      "outputs": []
    }
  ]
}